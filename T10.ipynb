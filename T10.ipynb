{
 "cells": [
  {
   "cell_type": "code",
   "execution_count": 688,
   "metadata": {},
   "outputs": [],
   "source": [
    "import numpy as np \n",
    "import pandas as pd\n",
    "import math\n",
    "import matplotlib.pyplot as plt \n",
    "import scipy.optimize\n",
    "from scipy.stats import chi2, kstwobign, norm\n",
    "from mpmath import mp\n",
    "\n",
    "plt.rcParams['figure.figsize'] = (10.0, 8.0) # set default size of plots\n",
    "plt.rcParams['image.interpolation'] = 'nearest'\n",
    "plt.rcParams['image.cmap'] = 'gray'"
   ]
  },
  {
   "cell_type": "code",
   "execution_count": 689,
   "metadata": {},
   "outputs": [
    {
     "data": {
      "text/html": [
       "<div>\n",
       "<style scoped>\n",
       "    .dataframe tbody tr th:only-of-type {\n",
       "        vertical-align: middle;\n",
       "    }\n",
       "\n",
       "    .dataframe tbody tr th {\n",
       "        vertical-align: top;\n",
       "    }\n",
       "\n",
       "    .dataframe thead th {\n",
       "        text-align: right;\n",
       "    }\n",
       "</style>\n",
       "<table border=\"1\" class=\"dataframe\">\n",
       "  <thead>\n",
       "    <tr style=\"text-align: right;\">\n",
       "      <th></th>\n",
       "      <th>0</th>\n",
       "      <th>1</th>\n",
       "      <th>2</th>\n",
       "      <th>3</th>\n",
       "      <th>4</th>\n",
       "      <th>5</th>\n",
       "      <th>6</th>\n",
       "      <th>7</th>\n",
       "      <th>8</th>\n",
       "      <th>9</th>\n",
       "    </tr>\n",
       "  </thead>\n",
       "  <tbody>\n",
       "    <tr>\n",
       "      <th>*.x*</th>\n",
       "      <td>5</td>\n",
       "      <td>8</td>\n",
       "      <td>6</td>\n",
       "      <td>12</td>\n",
       "      <td>14</td>\n",
       "      <td>18</td>\n",
       "      <td>11</td>\n",
       "      <td>6</td>\n",
       "      <td>13</td>\n",
       "      <td>7</td>\n",
       "    </tr>\n",
       "  </tbody>\n",
       "</table>\n",
       "</div>"
      ],
      "text/plain": [
       "      0  1  2   3   4   5   6  7   8  9\n",
       "*.x*  5  8  6  12  14  18  11  6  13  7"
      ]
     },
     "execution_count": 689,
     "metadata": {},
     "output_type": "execute_result"
    }
   ],
   "source": [
    "n = 100\n",
    "columns = [i for i in range(0, 9+1)]\n",
    "index = [\"*.x*\"]\n",
    "data_df = pd.DataFrame(columns=columns, index = pd.Index(index))\n",
    "data_df.loc[\"*.x*\"] = np.array([5, 8, 6, 12, 14, 18, 11, 6, 13, 7])\n",
    "data_df"
   ]
  },
  {
   "cell_type": "markdown",
   "metadata": {},
   "source": [
    "# а) $$H_0: \\xi \\ \\text{\\textasciitilde} \\ p(x) = 0.1\\{k\\} \\in [0, 9] \\cap \\Z$$\n",
    "# $$H_1: \\overline{H_0}$$\n",
    "# $$\\alpha = 0.05$$"
   ]
  },
  {
   "cell_type": "markdown",
   "metadata": {},
   "source": [
    "## Проверка гипотезы с помощью критерия ${\\chi}^2$ (Пирсона) для простой гипотезы"
   ]
  },
  {
   "cell_type": "code",
   "execution_count": 690,
   "metadata": {},
   "outputs": [
    {
     "data": {
      "text/html": [
       "<div>\n",
       "<style scoped>\n",
       "    .dataframe tbody tr th:only-of-type {\n",
       "        vertical-align: middle;\n",
       "    }\n",
       "\n",
       "    .dataframe tbody tr th {\n",
       "        vertical-align: top;\n",
       "    }\n",
       "\n",
       "    .dataframe thead th {\n",
       "        text-align: right;\n",
       "    }\n",
       "</style>\n",
       "<table border=\"1\" class=\"dataframe\">\n",
       "  <thead>\n",
       "    <tr style=\"text-align: right;\">\n",
       "      <th></th>\n",
       "      <th>0</th>\n",
       "      <th>1</th>\n",
       "      <th>2</th>\n",
       "      <th>3</th>\n",
       "      <th>4</th>\n",
       "      <th>5</th>\n",
       "      <th>6</th>\n",
       "      <th>7</th>\n",
       "      <th>8</th>\n",
       "      <th>9</th>\n",
       "    </tr>\n",
       "  </thead>\n",
       "  <tbody>\n",
       "    <tr>\n",
       "      <th>p_i</th>\n",
       "      <td>0.1</td>\n",
       "      <td>0.1</td>\n",
       "      <td>0.1</td>\n",
       "      <td>0.1</td>\n",
       "      <td>0.1</td>\n",
       "      <td>0.1</td>\n",
       "      <td>0.1</td>\n",
       "      <td>0.1</td>\n",
       "      <td>0.1</td>\n",
       "      <td>0.1</td>\n",
       "    </tr>\n",
       "    <tr>\n",
       "      <th>np_i</th>\n",
       "      <td>10.0</td>\n",
       "      <td>10.0</td>\n",
       "      <td>10.0</td>\n",
       "      <td>10.0</td>\n",
       "      <td>10.0</td>\n",
       "      <td>10.0</td>\n",
       "      <td>10.0</td>\n",
       "      <td>10.0</td>\n",
       "      <td>10.0</td>\n",
       "      <td>10.0</td>\n",
       "    </tr>\n",
       "  </tbody>\n",
       "</table>\n",
       "</div>"
      ],
      "text/plain": [
       "         0     1     2     3     4     5     6     7     8     9\n",
       "p_i    0.1   0.1   0.1   0.1   0.1   0.1   0.1   0.1   0.1   0.1\n",
       "np_i  10.0  10.0  10.0  10.0  10.0  10.0  10.0  10.0  10.0  10.0"
      ]
     },
     "execution_count": 690,
     "metadata": {},
     "output_type": "execute_result"
    }
   ],
   "source": [
    "alpha = 0.05\n",
    "\n",
    "p_np_df = pd.DataFrame(columns=columns, index=pd.Index([\"p_i\", \"np_i\"]))\n",
    "p_np_df.loc[\"p_i\", :] = np.array([0.1 for _ in range(0, 9+1)])\n",
    "p_np_df.loc[\"np_i\", :] = np.array([0.1*n for i in range(0, 9+1)])\n",
    "p_np_df"
   ]
  },
  {
   "cell_type": "markdown",
   "metadata": {},
   "source": [
    "#### $n \\ge 50;\\ n p_i \\ge 5\\ \\ \\forall i \\in [0, 9] \\cap \\Z \\Rightarrow$ можно применить критерий Пирсона без объединения колонн"
   ]
  },
  {
   "cell_type": "markdown",
   "metadata": {},
   "source": [
    "## $$\\widetilde{\\Delta} = \\displaystyle\\sum_{i=1}^n \\frac{(n p_i - m_i)^2}{n p_i}$$"
   ]
  },
  {
   "cell_type": "code",
   "execution_count": 691,
   "metadata": {},
   "outputs": [
    {
     "name": "stdout",
     "output_type": "stream",
     "text": [
      "̃Δ = 16.4\n"
     ]
    }
   ],
   "source": [
    "p = 1/10 # Для равномерного распределения для дискретных значений\n",
    "delta = 0\n",
    "for i in range(0, 9+1): delta += (n*p - data_df.loc[\"*.x*\", i])**2 / (n*p)\n",
    "print(f\"\\u0303\\u0394 = {delta}\")"
   ]
  },
  {
   "cell_type": "markdown",
   "metadata": {},
   "source": [
    "# $$p\\_value = P(\\Delta \\ge \\widetilde{\\Delta}|H_0) = \\displaystyle\\int_{\\widetilde{\\Delta}}^{+\\infty} q(t)dt$$\n",
    "# $q(t) = (\\chi^2(k-1))'$"
   ]
  },
  {
   "cell_type": "code",
   "execution_count": 692,
   "metadata": {},
   "outputs": [
    {
     "name": "stdout",
     "output_type": "stream",
     "text": [
      "p-value = 0.058984030544419454\n"
     ]
    }
   ],
   "source": [
    "sf = chi2.sf(delta, 10-1)\n",
    "print(f\"p-value = {sf}\")"
   ]
  },
  {
   "cell_type": "markdown",
   "metadata": {},
   "source": [
    "### p-value $> \\alpha \\Rightarrow$ Нет оснований отвергуть $H_0$"
   ]
  },
  {
   "cell_type": "markdown",
   "metadata": {},
   "source": [
    "## Проверка гипотезы с помощью критерия Колмогорова для простой гипотезы"
   ]
  },
  {
   "cell_type": "code",
   "execution_count": 693,
   "metadata": {},
   "outputs": [
    {
     "data": {
      "image/png": "[encoded data removed]",
      "text/plain": [
       "<Figure size 1000x800 with 1 Axes>"
      ]
     },
     "metadata": {},
     "output_type": "display_data"
    }
   ],
   "source": [
    "p_even = [i/10 for i in range(1, 10+1)]\n",
    "p_empirical = [data_df.loc[\"*.x*\", 0]/n]\n",
    "for i in range(1, 9+1):\n",
    "    p_empirical.append(p_empirical[i-1] + data_df.loc[\"*.x*\", i]/n)\n",
    "\n",
    "\n",
    "# Plotting\n",
    "plt.step(columns, p_empirical, where='post')\n",
    "plt.step(columns, p_even, where=\"post\")\n",
    "plt.title('Эмпирическая функция распределения по сравнению с функцией распределения для равномерного распределния')\n",
    "plt.xlabel('Value')\n",
    "plt.ylabel('Cumulative Probability')\n",
    "plt.grid(True)\n",
    "plt.show()"
   ]
  },
  {
   "cell_type": "code",
   "execution_count": 694,
   "metadata": {},
   "outputs": [
    {
     "name": "stdout",
     "output_type": "stream",
     "text": [
      "tp_even = \t[0.1, 0.2, 0.3, 0.4, 0.5, 0.6, 0.7, 0.8, 0.9, 1.0]\n",
      "p_empirical = \t[0.05, 0.13, 0.19, 0.31, 0.45, 0.63, 0.74, 0.8, 0.93, 1.0]\n"
     ]
    }
   ],
   "source": [
    "print(f\"tp_even = \\t{p_even}\")\n",
    "print(f\"p_empirical = \\t{p_empirical}\")"
   ]
  },
  {
   "cell_type": "markdown",
   "metadata": {},
   "source": [
    "# $$\\widetilde{\\Delta} = \\sqrt{n}\\displaystyle\\sup\\limits_{x \\in \\R}|\\widetilde{F}(x) - F(x)|$$\n",
    "\n",
    "Здесь $\\widetilde{F}(x)$ - эмпирическая функция распределения"
   ]
  },
  {
   "cell_type": "code",
   "execution_count": 695,
   "metadata": {},
   "outputs": [
    {
     "name": "stdout",
     "output_type": "stream",
     "text": [
      "̃Δ = 2.1\n"
     ]
    }
   ],
   "source": [
    "delta = 0\n",
    "delta = max(abs(p_even[0] - 0), abs(p_even[0] - p_empirical[0]))\n",
    "for i in range(1, 9+1):\n",
    "    delta = max(delta, abs(p_even[i] - p_empirical[i-1]), abs(p_even[i] - p_empirical[i]))\n",
    "delta *= math.sqrt(n)\n",
    "print(f\"\\u0303\\u0394 = {delta}\")"
   ]
  },
  {
   "cell_type": "markdown",
   "metadata": {},
   "source": [
    "## $$p\\_value = P(\\Delta \\ge \\widetilde{\\Delta}|H_0) = \\displaystyle\\int_{\\widetilde{\\Delta}}^{+\\infty} q(t)dt$$\n",
    "# $q(t) = (K(t))'$"
   ]
  },
  {
   "cell_type": "code",
   "execution_count": 696,
   "metadata": {},
   "outputs": [
    {
     "name": "stdout",
     "output_type": "stream",
     "text": [
      "p-value = 0.0002954967204631142\n"
     ]
    }
   ],
   "source": [
    "kolmogorov_dist = kstwobign\n",
    "sf_value = kolmogorov_dist.sf(delta)\n",
    "print(f\"p-value = {sf_value}\")"
   ]
  },
  {
   "cell_type": "markdown",
   "metadata": {},
   "source": [
    "### p-value $\\le \\alpha \\Rightarrow$ отвергаем $H_0$"
   ]
  },
  {
   "cell_type": "markdown",
   "metadata": {},
   "source": [
    "# б) $$H_0: \\xi \\ \\text{\\textasciitilde} N(\\theta_1, {\\theta_2}^2)\\ \\ \\ (p(x) = \\frac{1}{\\theta_2\\sqrt{2\\pi}}e^{-\\frac{1}{2}(\\frac{x-\\theta_1}{\\theta_2})^2})$$\n",
    "# $$H_1: \\overline{H_0}$$\n",
    "# $$\\alpha = 0.05$$"
   ]
  },
  {
   "cell_type": "markdown",
   "metadata": {},
   "source": [
    "## Проверка гипотезы с помощью критерия ${\\chi}^2$ (Пирсона) для сложной гипотезы"
   ]
  },
  {
   "cell_type": "code",
   "execution_count": 697,
   "metadata": {},
   "outputs": [
    {
     "data": {
      "text/html": [
       "<div>\n",
       "<style scoped>\n",
       "    .dataframe tbody tr th:only-of-type {\n",
       "        vertical-align: middle;\n",
       "    }\n",
       "\n",
       "    .dataframe tbody tr th {\n",
       "        vertical-align: top;\n",
       "    }\n",
       "\n",
       "    .dataframe thead th {\n",
       "        text-align: right;\n",
       "    }\n",
       "</style>\n",
       "<table border=\"1\" class=\"dataframe\">\n",
       "  <thead>\n",
       "    <tr style=\"text-align: right;\">\n",
       "      <th></th>\n",
       "      <th>(-inf, 1)</th>\n",
       "      <th>[1, 2)</th>\n",
       "      <th>[2, 3)</th>\n",
       "      <th>[3, 4)</th>\n",
       "      <th>[4, 5)</th>\n",
       "      <th>[5, 6)</th>\n",
       "      <th>[6, 7)</th>\n",
       "      <th>[7, 8)</th>\n",
       "      <th>[8, 9)</th>\n",
       "      <th>[9, +inf)</th>\n",
       "    </tr>\n",
       "  </thead>\n",
       "  <tbody>\n",
       "    <tr>\n",
       "      <th>m_i</th>\n",
       "      <td>5</td>\n",
       "      <td>8</td>\n",
       "      <td>6</td>\n",
       "      <td>12</td>\n",
       "      <td>14</td>\n",
       "      <td>18</td>\n",
       "      <td>11</td>\n",
       "      <td>6</td>\n",
       "      <td>13</td>\n",
       "      <td>7</td>\n",
       "    </tr>\n",
       "  </tbody>\n",
       "</table>\n",
       "</div>"
      ],
      "text/plain": [
       "    (-inf, 1) [1, 2) [2, 3) [3, 4) [4, 5) [5, 6) [6, 7) [7, 8) [8, 9)  \\\n",
       "m_i         5      8      6     12     14     18     11      6     13   \n",
       "\n",
       "    [9, +inf)  \n",
       "m_i         7  "
      ]
     },
     "execution_count": 697,
     "metadata": {},
     "output_type": "execute_result"
    }
   ],
   "source": [
    "columns = [\"(-inf, 1)\", \"[1, 2)\", \"[2, 3)\", \"[3, 4)\", \"[4, 5)\", \"[5, 6)\", \"[6, 7)\", \"[7, 8)\", \"[8, 9)\", \"[9, +inf)\"]\n",
    "index = pd.Index([\"m_i\"])\n",
    "data_df = pd.DataFrame(columns=columns, index=index)\n",
    "data_df.loc[\"m_i\", :] = np.array([5, 8, 6, 12, 14, 18, 11, 6, 13, 7])\n",
    "data_df"
   ]
  },
  {
   "cell_type": "markdown",
   "metadata": {},
   "source": [
    "## $$p_0 = \\displaystyle\\int_{-\\infty}^{1} \\frac{1}{\\theta_2\\sqrt{2\\pi}}e^{-\\frac{1}{2}(\\frac{x-\\theta_1}{\\theta_2})^2}dx$$\n",
    "## $$p_m = \\displaystyle\\int_{m}^{m+1} \\frac{1}{\\theta_2\\sqrt{2\\pi}}e^{-\\frac{1}{2}(\\frac{x-\\theta_1}{\\theta_2})^2}dx, \\ m \\in [1, 8] \\cap \\N$$\n",
    "## $$p_9 = \\displaystyle\\int_{9}^{+\\infty} \\frac{1}{\\theta_2\\sqrt{2\\pi}}e^{-\\frac{1}{2}(\\frac{x-\\theta_1}{\\theta_2})^2}dx$$"
   ]
  },
  {
   "cell_type": "markdown",
   "metadata": {},
   "source": [
    "### Замена переменных:"
   ]
  },
  {
   "cell_type": "markdown",
   "metadata": {},
   "source": [
    "## $$\\widetilde{x} = \\frac{m - \\theta_1}{\\theta_2 \\sqrt{2}};\\ \\ \\ \\ erf(x) = \\frac{2}{\\sqrt{\\pi}}\\displaystyle\\int_{0}^{x}e^{-t^2}dt;\\ \\ \\ \\ \\widetilde{erf}(x) = \\frac{erf(x) + 1}{2}$$"
   ]
  },
  {
   "cell_type": "markdown",
   "metadata": {},
   "source": [
    "### После замены вероятности выглядят в виде:"
   ]
  },
  {
   "cell_type": "markdown",
   "metadata": {},
   "source": [
    "## $$p_0 = \\widetilde{erf}(\\frac{1-\\theta_1}{\\theta_2 \\sqrt{2}})$$\n",
    "## $$p_m = \\widetilde{erf}(\\frac{m-\\theta_1+1}{\\theta_2 \\sqrt{2}}) - \\widetilde{erf}(\\frac{m-\\theta_1}{\\theta_2 \\sqrt{2}}) , \\ m \\in [1, 8] \\cap \\N $$\n",
    "## $$p_9 = 1 - \\widetilde{erf}(\\frac{9-\\theta_1}{\\theta_2 \\sqrt{2}})$$"
   ]
  },
  {
   "cell_type": "markdown",
   "metadata": {},
   "source": [
    "### Из-за требуемой точности вычислений была необходимость использовать библиотеку mpmath и считать интегралы в исходном виде, не пользуясь выведенными формулами"
   ]
  },
  {
   "cell_type": "code",
   "execution_count": 698,
   "metadata": {},
   "outputs": [],
   "source": [
    "def p_m(m: int, theta_1: float, theta_2: float) -> float:\n",
    "    mp.dps = 50  # Set decimal places\n",
    "    if m == 0:\n",
    "        # return _erf(1-theta_1/(theta_2*math.sqrt(2)))\n",
    "        # return _erf(1-theta_1/(math.sqrt(theta_2*2)))\n",
    "        # return float(mp.quad(lambda x: mp.exp(-x**2), [-100, (1-theta_1)/(theta_2*math.sqrt(2))]))\n",
    "        return mp.quad(lambda x: (1/(theta_2*math.sqrt(math.pi*2)))*mp.exp((-1/2)*(((x-theta_1)/(theta_2)))**2), [-1000, 1])\n",
    "    elif 1 <= m <= 8:\n",
    "        # return _erf((m - theta_1 + 1)/(theta_2*math.sqrt(2))) - _erf((m - theta_1)/(theta_2*math.sqrt(2)))\n",
    "        # return _erf((m - theta_1 + 1)/(math.sqrt(theta_2*2))) - _erf((m - theta_1)/(math.sqrt(theta_2*2)))\n",
    "        # return float(mp.quad(lambda x: mp.exp(-x**2), [(m - theta_1)/(theta_2*math.sqrt(2)), (m - theta_1 + 1)/(math.sqrt(theta_2*2))]))\n",
    "        return mp.quad(lambda x: (1/(theta_2*math.sqrt(math.pi*2)))*mp.exp((-1/2)*(((x-theta_1)/(theta_2)))**2), [m, m+1])\n",
    "    elif m == 9:\n",
    "        # return 1 - _erf((9 - theta_1)/(theta_2*math.sqrt(2)))\n",
    "        # return 1 - _erf((9 - theta_1)/(math.sqrt(theta_2*2)))\n",
    "        # return float(mp.quad(lambda x: mp.exp(-x**2), [(9 - theta_1)/(theta_2*math.sqrt(2)), 100]))\n",
    "        return mp.quad(lambda x: (1/(theta_2*math.sqrt(math.pi*2)))*mp.exp((-1/2)*(((x-theta_1)/(theta_2)))**2), [9, 1000])\n",
    "    else:\n",
    "        raise ValueError(\"m is not in [0, 9]\")\n",
    "def normal_F(x: float, theta_1: float, theta_2: float) -> float:\n",
    "    return mp.quad(lambda x: (1/(theta_2*math.sqrt(math.pi*2)))*mp.exp((-1/2)*(((x-theta_1)/(theta_2)))**2), [-1000, x])"
   ]
  },
  {
   "cell_type": "markdown",
   "metadata": {},
   "source": [
    "### Функция правдоподобия для ОМПГ:"
   ]
  },
  {
   "cell_type": "markdown",
   "metadata": {},
   "source": [
    "## $$L(\\overrightarrow{x_n}, \\overrightarrow{\\theta}) = \\displaystyle\\prod_{i = 1}^{n} p_i^{m_i},\\ \\ L(\\overrightarrow{x_n}, \\overrightarrow{\\theta}) \\rightarrow \\max$$\n",
    "## $$\\Leftrightarrow$$\n",
    "## $$\\ln (L(\\overrightarrow{x_n}, \\overrightarrow{\\theta})) = \\displaystyle\\sum_{i = 1}^{n} m_i\\ln{p_i},\\ \\ \\ln (L(\\overrightarrow{x_n}, \\overrightarrow{\\theta})) \\rightarrow \\max$$"
   ]
  },
  {
   "cell_type": "code",
   "execution_count": 699,
   "metadata": {},
   "outputs": [],
   "source": [
    "def L(m_i: tuple[float], theta_1: float, theta_2: float) -> float:\n",
    "    ret = 1\n",
    "    for m in range(0, 9+1):\n",
    "        arg = p_m(m, theta_1, theta_2)\n",
    "        if arg != 0:\n",
    "            ret *= arg**m_i[m]\n",
    "    return ret\n",
    "def lnL(m_i: tuple[float], theta_1: float, theta_2: float) -> float:\n",
    "    ret = 0\n",
    "    for m in range(0, 9+1):\n",
    "        arg = p_m(m, theta_1, theta_2)\n",
    "        if arg <= 0.0:\n",
    "            ret = float(\"+inf\")\n",
    "            break\n",
    "        ret += m_i[m]*math.log(arg)\n",
    "    return ret\n",
    "def negative_L_m(theta: list[float]) -> float:\n",
    "    return (-1)*L(np.array(data_df.loc[\"m_i\", :]), theta[0], theta[1])\n",
    "def negative_lnL_m(theta: list[float]) -> float:\n",
    "    return (-1)*lnL(np.array(data_df.loc[\"m_i\", :]), theta[0], theta[1])"
   ]
  },
  {
   "cell_type": "code",
   "execution_count": 700,
   "metadata": {},
   "outputs": [
    {
     "name": "stdout",
     "output_type": "stream",
     "text": [
      "M, σ = 4.77, 2.505414137423193\n"
     ]
    }
   ],
   "source": [
    "num_data = np.array([i for i in range(0, 9+1) for _ in range(data_df.loc[\"m_i\", columns[i]])])\n",
    "M = num_data.mean()\n",
    "std = num_data.std()\n",
    "\n",
    "print(f\"M, \\u03C3 = {M}, {std}\")"
   ]
  },
  {
   "cell_type": "code",
   "execution_count": 701,
   "metadata": {},
   "outputs": [
    {
     "name": "stdout",
     "output_type": "stream",
     "text": [
      "(theta_1, theta_2) = [5.28967723 2.67951979]\n"
     ]
    }
   ],
   "source": [
    "res = scipy.optimize.minimize(negative_lnL_m, x0=[M, std])\n",
    "print(f\"(theta_1, theta_2) = {res.x}\")"
   ]
  },
  {
   "cell_type": "markdown",
   "metadata": {},
   "source": [
    "График нормального распределения с полученными параметрами (немного неточно)"
   ]
  },
  {
   "cell_type": "code",
   "execution_count": 702,
   "metadata": {},
   "outputs": [
    {
     "data": {
      "image/png": "[encoded data removed]",
      "text/plain": [
       "<Figure size 1000x600 with 1 Axes>"
      ]
     },
     "metadata": {},
     "output_type": "display_data"
    }
   ],
   "source": [
    "mu = res.x[0]\n",
    "sigma = res.x[1]\n",
    "\n",
    "x = np.linspace(mu - 4*sigma, mu + 4*sigma, 1000)\n",
    "\n",
    "pdf = norm.pdf(x, mu, sigma)\n",
    "plt.figure(figsize=(10, 6))\n",
    "plt.step([-5] + [i for i in range(0, 9+1)] + [10, 15], [0] + list(data_df.loc[\"m_i\", :]/max(data_df.loc[\"m_i\", :])*0.145) + [0, 0], where='post')\n",
    "plt.plot(x, pdf, 'b-', linewidth=2, label=f'N(μ={mu}, σ={sigma})')\n",
    "\n",
    "plt.title('Normal Distribution with Given Parameters')\n",
    "plt.xlabel('Values')\n",
    "plt.ylabel('Probability Density')\n",
    "plt.legend()\n",
    "plt.grid(True, alpha=0.3)\n",
    "\n",
    "# Add vertical line at mean and ±σ intervals\n",
    "plt.axvline(mu, color='k', linestyle='--', alpha=0.5)\n",
    "for n in [-2, -1, 1, 2]:\n",
    "    plt.axvline(mu + n*sigma, color='gray', linestyle=':', alpha=0.4)"
   ]
  },
  {
   "cell_type": "code",
   "execution_count": 703,
   "metadata": {},
   "outputs": [
    {
     "data": {
      "text/html": [
       "<div>\n",
       "<style scoped>\n",
       "    .dataframe tbody tr th:only-of-type {\n",
       "        vertical-align: middle;\n",
       "    }\n",
       "\n",
       "    .dataframe tbody tr th {\n",
       "        vertical-align: top;\n",
       "    }\n",
       "\n",
       "    .dataframe thead th {\n",
       "        text-align: right;\n",
       "    }\n",
       "</style>\n",
       "<table border=\"1\" class=\"dataframe\">\n",
       "  <thead>\n",
       "    <tr style=\"text-align: right;\">\n",
       "      <th></th>\n",
       "      <th>(-inf, 1)</th>\n",
       "      <th>[1, 2)</th>\n",
       "      <th>[2, 3)</th>\n",
       "      <th>[3, 4)</th>\n",
       "      <th>[4, 5)</th>\n",
       "      <th>[5, 6)</th>\n",
       "      <th>[6, 7)</th>\n",
       "      <th>[7, 8)</th>\n",
       "      <th>[8, 9)</th>\n",
       "      <th>[9, +inf)</th>\n",
       "    </tr>\n",
       "  </thead>\n",
       "  <tbody>\n",
       "    <tr>\n",
       "      <th>p_i</th>\n",
       "      <td>0.0547</td>\n",
       "      <td>0.0551</td>\n",
       "      <td>0.0866</td>\n",
       "      <td>0.1187</td>\n",
       "      <td>0.1418</td>\n",
       "      <td>0.1476</td>\n",
       "      <td>0.1338</td>\n",
       "      <td>0.1058</td>\n",
       "      <td>0.0728</td>\n",
       "      <td>0.0831</td>\n",
       "    </tr>\n",
       "  </tbody>\n",
       "</table>\n",
       "</div>"
      ],
      "text/plain": [
       "    (-inf, 1)  [1, 2)  [2, 3)  [3, 4)  [4, 5)  [5, 6)  [6, 7)  [7, 8)  [8, 9)  \\\n",
       "p_i    0.0547  0.0551  0.0866  0.1187  0.1418  0.1476  0.1338  0.1058  0.0728   \n",
       "\n",
       "    [9, +inf)  \n",
       "p_i    0.0831  "
      ]
     },
     "execution_count": 703,
     "metadata": {},
     "output_type": "execute_result"
    }
   ],
   "source": [
    "p_i_df = pd.DataFrame(columns=columns, index=pd.Index([\"p_i\"]))\n",
    "p_i_df.loc[\"p_i\", :] = np.array([round(float(p_m(m, mu, sigma)), ndigits=4) for m in range(0, 9+1)])\n",
    "p_i_df"
   ]
  },
  {
   "cell_type": "code",
   "execution_count": 704,
   "metadata": {},
   "outputs": [
    {
     "data": {
      "text/html": [
       "<div>\n",
       "<style scoped>\n",
       "    .dataframe tbody tr th:only-of-type {\n",
       "        vertical-align: middle;\n",
       "    }\n",
       "\n",
       "    .dataframe tbody tr th {\n",
       "        vertical-align: top;\n",
       "    }\n",
       "\n",
       "    .dataframe thead th {\n",
       "        text-align: right;\n",
       "    }\n",
       "</style>\n",
       "<table border=\"1\" class=\"dataframe\">\n",
       "  <thead>\n",
       "    <tr style=\"text-align: right;\">\n",
       "      <th></th>\n",
       "      <th>(-inf, 1)</th>\n",
       "      <th>[1, 2)</th>\n",
       "      <th>[2, 3)</th>\n",
       "      <th>[3, 4)</th>\n",
       "      <th>[4, 5)</th>\n",
       "      <th>[5, 6)</th>\n",
       "      <th>[6, 7)</th>\n",
       "      <th>[7, 8)</th>\n",
       "      <th>[8, 9)</th>\n",
       "      <th>[9, +inf)</th>\n",
       "    </tr>\n",
       "  </thead>\n",
       "  <tbody>\n",
       "    <tr>\n",
       "      <th>np_i</th>\n",
       "      <td>5.47</td>\n",
       "      <td>5.51</td>\n",
       "      <td>8.66</td>\n",
       "      <td>11.87</td>\n",
       "      <td>14.18</td>\n",
       "      <td>14.76</td>\n",
       "      <td>13.38</td>\n",
       "      <td>10.58</td>\n",
       "      <td>7.28</td>\n",
       "      <td>8.31</td>\n",
       "    </tr>\n",
       "  </tbody>\n",
       "</table>\n",
       "</div>"
      ],
      "text/plain": [
       "     (-inf, 1) [1, 2) [2, 3) [3, 4) [4, 5) [5, 6) [6, 7) [7, 8) [8, 9)  \\\n",
       "np_i      5.47   5.51   8.66  11.87  14.18  14.76  13.38  10.58   7.28   \n",
       "\n",
       "     [9, +inf)  \n",
       "np_i      8.31  "
      ]
     },
     "execution_count": 704,
     "metadata": {},
     "output_type": "execute_result"
    }
   ],
   "source": [
    "n = 100\n",
    "np_i_df = pd.DataFrame(columns=columns, index=pd.Index([\"np_i\"]))\n",
    "np_i_df.loc[\"np_i\", :] = np.array(p_i_df.loc[\"p_i\", :]*n)\n",
    "np_i_df"
   ]
  },
  {
   "cell_type": "code",
   "execution_count": 705,
   "metadata": {},
   "outputs": [
    {
     "data": {
      "text/html": [
       "<div>\n",
       "<style scoped>\n",
       "    .dataframe tbody tr th:only-of-type {\n",
       "        vertical-align: middle;\n",
       "    }\n",
       "\n",
       "    .dataframe tbody tr th {\n",
       "        vertical-align: top;\n",
       "    }\n",
       "\n",
       "    .dataframe thead th {\n",
       "        text-align: right;\n",
       "    }\n",
       "</style>\n",
       "<table border=\"1\" class=\"dataframe\">\n",
       "  <thead>\n",
       "    <tr style=\"text-align: right;\">\n",
       "      <th></th>\n",
       "      <th>(-inf, 1)</th>\n",
       "      <th>[1, 2)</th>\n",
       "      <th>[2, 3)</th>\n",
       "      <th>[3, 4)</th>\n",
       "      <th>[4, 5)</th>\n",
       "      <th>[5, 6)</th>\n",
       "      <th>[6, 7)</th>\n",
       "      <th>[7, 8)</th>\n",
       "      <th>[8, 9)</th>\n",
       "      <th>[9, +inf)</th>\n",
       "    </tr>\n",
       "  </thead>\n",
       "  <tbody>\n",
       "    <tr>\n",
       "      <th>m_i</th>\n",
       "      <td>5</td>\n",
       "      <td>8</td>\n",
       "      <td>6</td>\n",
       "      <td>12</td>\n",
       "      <td>14</td>\n",
       "      <td>18</td>\n",
       "      <td>11</td>\n",
       "      <td>6</td>\n",
       "      <td>13</td>\n",
       "      <td>7</td>\n",
       "    </tr>\n",
       "    <tr>\n",
       "      <th>p_i</th>\n",
       "      <td>0.0547</td>\n",
       "      <td>0.0551</td>\n",
       "      <td>0.0866</td>\n",
       "      <td>0.1187</td>\n",
       "      <td>0.1418</td>\n",
       "      <td>0.1476</td>\n",
       "      <td>0.1338</td>\n",
       "      <td>0.1058</td>\n",
       "      <td>0.0728</td>\n",
       "      <td>0.0831</td>\n",
       "    </tr>\n",
       "    <tr>\n",
       "      <th>np_i</th>\n",
       "      <td>5.47</td>\n",
       "      <td>5.51</td>\n",
       "      <td>8.66</td>\n",
       "      <td>11.87</td>\n",
       "      <td>14.18</td>\n",
       "      <td>14.76</td>\n",
       "      <td>13.38</td>\n",
       "      <td>10.58</td>\n",
       "      <td>7.28</td>\n",
       "      <td>8.31</td>\n",
       "    </tr>\n",
       "  </tbody>\n",
       "</table>\n",
       "</div>"
      ],
      "text/plain": [
       "     (-inf, 1)  [1, 2)  [2, 3)  [3, 4)  [4, 5)  [5, 6)  [6, 7)  [7, 8)  \\\n",
       "m_i          5       8       6      12      14      18      11       6   \n",
       "p_i     0.0547  0.0551  0.0866  0.1187  0.1418  0.1476  0.1338  0.1058   \n",
       "np_i      5.47    5.51    8.66   11.87   14.18   14.76   13.38   10.58   \n",
       "\n",
       "      [8, 9) [9, +inf)  \n",
       "m_i       13         7  \n",
       "p_i   0.0728    0.0831  \n",
       "np_i    7.28      8.31  "
      ]
     },
     "execution_count": 705,
     "metadata": {},
     "output_type": "execute_result"
    }
   ],
   "source": [
    "data_df.loc[\"p_i\", :] = np.array([p_i_df.loc[\"p_i\", :]])\n",
    "data_df.loc[\"np_i\", :] = np.array([np_i_df.loc[\"np_i\", :]])\n",
    "data_df"
   ]
  },
  {
   "cell_type": "markdown",
   "metadata": {},
   "source": [
    "#### $n \\ge 50;\\ n p_i \\ge 5\\ \\ \\forall i \\in [0, 9] \\cap \\Z \\Rightarrow$ можно применить критерий Пирсона без объединения колонн"
   ]
  },
  {
   "cell_type": "markdown",
   "metadata": {},
   "source": [
    "## $$\\widetilde{\\Delta} = \\displaystyle\\sum_{i=1}^n \\frac{(n p_i - m_i)^2}{n p_i}$$"
   ]
  },
  {
   "cell_type": "code",
   "execution_count": 706,
   "metadata": {},
   "outputs": [
    {
     "name": "stdout",
     "output_type": "stream",
     "text": [
      "̃Δ = 8.511879999999998\n"
     ]
    }
   ],
   "source": [
    "delta = 0\n",
    "for i in range(0, 9+1): delta += (n*data_df.loc[\"p_i\", columns[i]] - data_df.loc[\"m_i\", columns[i]])**2 / (n*p)\n",
    "print(f\"\\u0303\\u0394 = {delta}\")"
   ]
  },
  {
   "cell_type": "markdown",
   "metadata": {},
   "source": [
    "# $$p\\_value = P(\\Delta \\ge \\widetilde{\\Delta}|H_0) = \\displaystyle\\int_{\\widetilde{\\Delta}}^{+\\infty} q(t)dt$$\n",
    "# $q(t) = (\\chi^2(k-1))'$"
   ]
  },
  {
   "cell_type": "code",
   "execution_count": 707,
   "metadata": {},
   "outputs": [
    {
     "name": "stdout",
     "output_type": "stream",
     "text": [
      "p-value = 0.4834936966175828\n"
     ]
    }
   ],
   "source": [
    "sf = chi2.sf(delta, 10-1)\n",
    "print(f\"p-value = {sf}\")"
   ]
  },
  {
   "cell_type": "markdown",
   "metadata": {},
   "source": [
    "### p-value $> \\alpha \\Rightarrow$ Нет оснований отвергуть $H_0$"
   ]
  },
  {
   "cell_type": "markdown",
   "metadata": {},
   "source": [
    "## Проверка гипотезы с помощью критерия Колмогорова для сложной гипотезы"
   ]
  },
  {
   "cell_type": "markdown",
   "metadata": {},
   "source": [
    "### $\\widetilde{\\vec{\\theta}}$ - любая состоятельная оценка, полученная доступными методами\n",
    "### Пусть $\\widetilde{\\vec{\\theta}}$ - оценка, полученная ОМП для нормального распределения\n",
    "### Т.е. $\\widetilde{\\theta_1} = \\widetilde{\\alpha_1}$, $\\widetilde{{\\theta_2}^2} = \\widetilde{\\mu_2} = \\widetilde{\\alpha_2} - \\widetilde{\\alpha_1}^2$"
   ]
  },
  {
   "cell_type": "markdown",
   "metadata": {},
   "source": [
    "# $$\\widetilde{\\Delta} = \\sqrt{n}\\displaystyle\\sup\\limits_{x \\in \\R}|\\widetilde{F}(x) - F(x, \\widetilde{\\vec{\\theta}})|$$\n",
    "\n",
    "Здесь $\\widetilde{F}(x)$ - эмпирическая функция распределения"
   ]
  },
  {
   "cell_type": "code",
   "execution_count": 708,
   "metadata": {},
   "outputs": [],
   "source": [
    "theta_1 = num_data.mean()\n",
    "theta_2 = num_data.std()"
   ]
  },
  {
   "cell_type": "code",
   "execution_count": 709,
   "metadata": {},
   "outputs": [
    {
     "data": {
      "text/html": [
       "<div>\n",
       "<style scoped>\n",
       "    .dataframe tbody tr th:only-of-type {\n",
       "        vertical-align: middle;\n",
       "    }\n",
       "\n",
       "    .dataframe tbody tr th {\n",
       "        vertical-align: top;\n",
       "    }\n",
       "\n",
       "    .dataframe thead th {\n",
       "        text-align: right;\n",
       "    }\n",
       "</style>\n",
       "<table border=\"1\" class=\"dataframe\">\n",
       "  <thead>\n",
       "    <tr style=\"text-align: right;\">\n",
       "      <th></th>\n",
       "      <th>0</th>\n",
       "      <th>1</th>\n",
       "      <th>2</th>\n",
       "      <th>3</th>\n",
       "      <th>4</th>\n",
       "      <th>5</th>\n",
       "      <th>6</th>\n",
       "      <th>7</th>\n",
       "      <th>8</th>\n",
       "      <th>9</th>\n",
       "    </tr>\n",
       "  </thead>\n",
       "  <tbody>\n",
       "    <tr>\n",
       "      <th>m_i</th>\n",
       "      <td>5</td>\n",
       "      <td>8</td>\n",
       "      <td>6</td>\n",
       "      <td>12</td>\n",
       "      <td>14</td>\n",
       "      <td>18</td>\n",
       "      <td>11</td>\n",
       "      <td>6</td>\n",
       "      <td>13</td>\n",
       "      <td>7</td>\n",
       "    </tr>\n",
       "    <tr>\n",
       "      <th>p_i</th>\n",
       "      <td>0.05</td>\n",
       "      <td>0.08</td>\n",
       "      <td>0.06</td>\n",
       "      <td>0.12</td>\n",
       "      <td>0.14</td>\n",
       "      <td>0.18</td>\n",
       "      <td>0.11</td>\n",
       "      <td>0.06</td>\n",
       "      <td>0.13</td>\n",
       "      <td>0.07</td>\n",
       "    </tr>\n",
       "    <tr>\n",
       "      <th>F_empirical_i</th>\n",
       "      <td>0.05</td>\n",
       "      <td>0.13</td>\n",
       "      <td>0.19</td>\n",
       "      <td>0.31</td>\n",
       "      <td>0.45</td>\n",
       "      <td>0.63</td>\n",
       "      <td>0.74</td>\n",
       "      <td>0.8</td>\n",
       "      <td>0.93</td>\n",
       "      <td>1.0</td>\n",
       "    </tr>\n",
       "  </tbody>\n",
       "</table>\n",
       "</div>"
      ],
      "text/plain": [
       "                  0     1     2     3     4     5     6     7     8     9\n",
       "m_i               5     8     6    12    14    18    11     6    13     7\n",
       "p_i            0.05  0.08  0.06  0.12  0.14  0.18  0.11  0.06  0.13  0.07\n",
       "F_empirical_i  0.05  0.13  0.19  0.31  0.45  0.63  0.74   0.8  0.93   1.0"
      ]
     },
     "execution_count": 709,
     "metadata": {},
     "output_type": "execute_result"
    }
   ],
   "source": [
    "n = 100\n",
    "columns = [0, 1, 2, 3, 4, 5, 6, 7, 8, 9]\n",
    "index = pd.Index([\"m_i\", \"p_i\", \"F_empirical_i\"])\n",
    "data_df = pd.DataFrame(columns=columns, index=index)\n",
    "data_df.loc[\"m_i\", :] = np.array([5, 8, 6, 12, 14, 18, 11, 6, 13, 7])\n",
    "data_df.loc[\"p_i\", :] = np.array([m_i/n for m_i in data_df.loc[\"m_i\", :]])\n",
    "data_df.loc[\"F_empirical_i\", :] = np.array([sum(list(data_df.loc[\"p_i\", columns[:i+1]])) for i in range(0, 9+1)])\n",
    "data_df"
   ]
  },
  {
   "cell_type": "code",
   "execution_count": 710,
   "metadata": {},
   "outputs": [
    {
     "name": "stdout",
     "output_type": "stream",
     "text": [
      "̃Δ = 1.0133711124224822494840572379347279142842036803577\n"
     ]
    },
    {
     "data": {
      "image/png": "[encoded data removed]",
      "text/plain": [
       "<Figure size 1000x800 with 1 Axes>"
      ]
     },
     "metadata": {},
     "output_type": "display_data"
    }
   ],
   "source": [
    "# Эмпирическая функция распределения\n",
    "plt.step(columns, np.array(data_df.loc[\"F_empirical_i\", :]), where='post')\n",
    "\n",
    "# Функция распределения нормального распределения\n",
    "_x = np.array(range(0, 200+1))/20\n",
    "_y = np.array([normal_F(__x, theta_1, theta_2) for __x in _x])\n",
    "plt.plot(_x, _y)\n",
    "\n",
    "delta = 0\n",
    "delta = max(abs(normal_F(0, theta_1, theta_2) - 0), abs(p_even[0] - p_empirical[0]))\n",
    "for i in range(1, 9+1):\n",
    "    delta = max(\n",
    "        delta,\n",
    "        abs(normal_F(i, theta_1, theta_2) - data_df.loc[\"F_empirical_i\", i-1]),\n",
    "        abs(normal_F(i, theta_1, theta_2) - data_df.loc[\"F_empirical_i\", i])\n",
    "    )\n",
    "delta *= math.sqrt(n)\n",
    "print(f\"\\u0303\\u0394 = {delta}\")\n",
    "\n",
    "plt.title('Эмпирическая функция распределения по сравнению с функцией распределения для нормального распределния с параметрами, полученными ОМП')\n",
    "plt.xlabel('Value')\n",
    "plt.ylabel('Cumulative Probability')\n",
    "plt.grid(True)\n",
    "plt.show()"
   ]
  },
  {
   "cell_type": "markdown",
   "metadata": {},
   "source": [
    "## Построение вариационного ряда с помощью параметрического бутстрапа"
   ]
  },
  {
   "cell_type": "markdown",
   "metadata": {},
   "source": [
    "### 1) $\\vec{x_n^*}$ $\\rightarrow$ $\\widetilde{\\vec{\\theta}}$ $\\rightarrow$ $\\Delta_1^*$ = $\\sqrt{n}\\displaystyle\\sup\\limits_{x \\in \\R}|\\widetilde{F_{}^*}(x) - F(x, \\widetilde{\\vec{\\theta_{}^*}})|$\n",
    "### 2) $\\vec{x_n^*}$ $\\rightarrow$ $\\widetilde{\\vec{\\theta}}$ $\\rightarrow$ $\\Delta_2^*$ = $\\sqrt{n}\\displaystyle\\sup\\limits_{x \\in \\R}|\\widetilde{F_{}^*}(x) - F(x, \\widetilde{\\vec{\\theta_{}^*}})|$\n",
    "### ...\n",
    "### N-1) $\\vec{x_n^*}$ $\\rightarrow$ $\\widetilde{\\vec{\\theta}}$ $\\rightarrow$ $\\Delta_{N-1}^*$ = $\\sqrt{n}\\displaystyle\\sup\\limits_{x \\in \\R}|\\widetilde{F_{}^*}(x) - F(x, \\widetilde{\\vec{\\theta_{}^*}})|$\n",
    "### N) $\\vec{x_n^*}$ $\\rightarrow$ $\\widetilde{\\vec{\\theta}}$ $\\rightarrow$ $\\Delta_N^*$ = $\\sqrt{n}\\displaystyle\\sup\\limits_{x \\in \\R}|\\widetilde{F_{}^*}(x) - F(x, \\widetilde{\\vec{\\theta_{}^*}})|$\n",
    "### Вариационный ряд:\n",
    "### $\\Delta_{(1)}^*$, $\\Delta_{(2)}^*$, $\\Delta_{(3)}^*$, ... $\\Delta_{(N-1)}^*$, $\\Delta_{(N)}^*$"
   ]
  },
  {
   "cell_type": "code",
   "execution_count": 711,
   "metadata": {},
   "outputs": [],
   "source": [
    "def kolmogorov_delta_bootstrap(data: np.array, theta_1: float, theta_2: float, dist) -> float:\n",
    "    sample = dist.rvs(loc=theta_1, scale=theta_2, size=len(data))\n",
    "    # Строим эмпирическую функцию распределения\n",
    "    x = sorted(set(sample))\n",
    "    sample_dict = dict()\n",
    "    for value in sample:\n",
    "        if value in sample_dict:\n",
    "            sample_dict[value] += 1/len(sample)\n",
    "        else:\n",
    "            sample_dict[value] = 1/len(sample)\n",
    "    F_empirical = [sample_dict[x[0]]]\n",
    "    for i in range(1, len(x)):\n",
    "        F_empirical.append(F_empirical[i-1] + sample_dict[x[i]])\n",
    "\n",
    "    theta_new_1, theta_new_2 = dist.fit(sample)\n",
    "\n",
    "    new_delta = 0\n",
    "    new_delta = max(\n",
    "        abs(dist.cdf(x[0], loc=theta_new_1, scale=theta_new_2) - 0),\n",
    "        abs(F_empirical[0] - dist.cdf(x[0], loc=theta_new_1, scale=theta_new_2))\n",
    "        )\n",
    "    for i in range(1, len(x)):\n",
    "        new_delta = max(\n",
    "            new_delta,\n",
    "            abs(dist.cdf(x[i], loc=theta_new_1, scale=theta_new_2) - F_empirical[i-1]),\n",
    "            abs(dist.cdf(x[i], loc=theta_new_1, scale=theta_new_2) - F_empirical[i])\n",
    "            )\n",
    "    new_delta *= math.sqrt(n)\n",
    "\n",
    "    return new_delta, theta_new_1, theta_new_2\n",
    "\n",
    "\n",
    "def parametric_bootstrap_params(data, dist=norm, n_bootstrap=50000) -> tuple:\n",
    "    original_theta_1, original_theta_2 = dist.fit(data)\n",
    "    prev_theta_1, prev_theta_2 = original_theta_1, original_theta_2\n",
    "\n",
    "    deltas = []\n",
    "    params = [(original_theta_1, original_theta_2)]\n",
    "    for _ in range(n_bootstrap):\n",
    "        new_delta, theta_1, theta_2 = kolmogorov_delta_bootstrap(data, original_theta_1, original_theta_2, dist)\n",
    "        prev_theta_1 = theta_1\n",
    "        prev_theta_2 = theta_2\n",
    "        params.append((prev_theta_1, prev_theta_2))\n",
    "        deltas.append(new_delta)\n",
    "\n",
    "    return sorted(deltas), params\n",
    "\n",
    "real_data = [i for i in range(0, 9+1) for _ in range(data_df.loc[\"m_i\", columns[i]])]\n",
    "deltas, params = parametric_bootstrap_params(np.array(real_data, dtype=np.float32), dist=norm, n_bootstrap=50000)"
   ]
  },
  {
   "cell_type": "markdown",
   "metadata": {},
   "source": [
    "### p-value = $\\frac{k}{N}$, где k - кол-во элементов вариационного ряда $\\{\\Delta_{(n)}^*\\}_1^N$ таких, что $\\Delta_{(i)}^* \\ge \\widetilde{\\Delta}$"
   ]
  },
  {
   "cell_type": "code",
   "execution_count": 712,
   "metadata": {},
   "outputs": [
    {
     "name": "stdout",
     "output_type": "stream",
     "text": [
      "p_value = 0.01354\n"
     ]
    }
   ],
   "source": [
    "count = 0\n",
    "for _delta in deltas:\n",
    "    if _delta >= delta:\n",
    "        count += 1\n",
    "print(f\"p_value = {count/len(deltas)}\")"
   ]
  },
  {
   "cell_type": "markdown",
   "metadata": {},
   "source": [
    "## P-value $\\le$ $\\alpha$ $\\Rightarrow$ отвергаем $H_0$"
   ]
  }
 ],
 "metadata": {
  "kernelspec": {
   "display_name": "Python 3",
   "language": "python",
   "name": "python3"
  },
  "language_info": {
   "codemirror_mode": {
    "name": "ipython",
    "version": 3
   },
   "file_extension": ".py",
   "mimetype": "text/x-python",
   "name": "python",
   "nbconvert_exporter": "python",
   "pygments_lexer": "ipython3",
   "version": "3.11.8"
  }
 },
 "nbformat": 4,
 "nbformat_minor": 2
}
