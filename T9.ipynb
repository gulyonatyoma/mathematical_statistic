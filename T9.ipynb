{
 "cells": [
  {
   "cell_type": "code",
   "execution_count": 3,
   "metadata": {},
   "outputs": [],
   "source": [
    "import numpy as np \n",
    "import pandas as pd\n",
    "import math\n",
    "import matplotlib.pyplot as plt \n",
    "from scipy.stats import chi2\n",
    "\n",
    "plt.rcParams['figure.figsize'] = (10.0, 8.0) # set default size of plots\n",
    "plt.rcParams['image.interpolation'] = 'nearest'\n",
    "plt.rcParams['image.cmap'] = 'gray'"
   ]
  },
  {
   "cell_type": "markdown",
   "metadata": {},
   "source": [
    "## $$\\xi\\ -\\ Распределение\\ оценок в\\ первом\\ потоке$$\n",
    "## $$\\eta\\ -\\ Распределение\\ оценок во\\ втором\\ потоке$$\n",
    "# $$H_0: \\xi,\\ \\eta\\ -\\ однородны$$\n",
    "# $$H_1: \\overline{H_0}$$\n",
    "# $$\\alpha = 0.05$$"
   ]
  },
  {
   "cell_type": "code",
   "execution_count": 4,
   "metadata": {},
   "outputs": [
    {
     "data": {
      "text/html": [
       "<div>\n",
       "<style scoped>\n",
       "    .dataframe tbody tr th:only-of-type {\n",
       "        vertical-align: middle;\n",
       "    }\n",
       "\n",
       "    .dataframe tbody tr th {\n",
       "        vertical-align: top;\n",
       "    }\n",
       "\n",
       "    .dataframe thead th {\n",
       "        text-align: right;\n",
       "    }\n",
       "</style>\n",
       "<table border=\"1\" class=\"dataframe\">\n",
       "  <thead>\n",
       "    <tr style=\"text-align: right;\">\n",
       "      <th></th>\n",
       "      <th>Поток 1</th>\n",
       "      <th>Поток 2</th>\n",
       "    </tr>\n",
       "  </thead>\n",
       "  <tbody>\n",
       "    <tr>\n",
       "      <th>2</th>\n",
       "      <td>33</td>\n",
       "      <td>39</td>\n",
       "    </tr>\n",
       "    <tr>\n",
       "      <th>3</th>\n",
       "      <td>43</td>\n",
       "      <td>35</td>\n",
       "    </tr>\n",
       "    <tr>\n",
       "      <th>4</th>\n",
       "      <td>80</td>\n",
       "      <td>72</td>\n",
       "    </tr>\n",
       "    <tr>\n",
       "      <th>5</th>\n",
       "      <td>144</td>\n",
       "      <td>154</td>\n",
       "    </tr>\n",
       "  </tbody>\n",
       "</table>\n",
       "</div>"
      ],
      "text/plain": [
       "  Поток 1 Поток 2\n",
       "2      33      39\n",
       "3      43      35\n",
       "4      80      72\n",
       "5     144     154"
      ]
     },
     "execution_count": 4,
     "metadata": {},
     "output_type": "execute_result"
    }
   ],
   "source": [
    "n = 600\n",
    "columns = [\"Поток 1\", \"Поток 2\"]\n",
    "index = [2, 3, 4, 5]\n",
    "data_df = pd.DataFrame(columns=columns, index = pd.Index(index))\n",
    "data_df.loc[2, :] = np.array([33, 39])\n",
    "data_df.loc[3, :] = np.array([43, 35])\n",
    "data_df.loc[4, :] = np.array([80, 72])\n",
    "data_df.loc[5, :] = np.array([144, 154])\n",
    "data_df"
   ]
  },
  {
   "cell_type": "markdown",
   "metadata": {},
   "source": [
    "## $$\\widetilde{p_j} = \\nu_j = \\frac{\\displaystyle\\sum_{i=1}^{l} m_{ij}}{n},\\ n = \\displaystyle\\sum_{i=1}^{l} n_i$$"
   ]
  },
  {
   "cell_type": "code",
   "execution_count": 5,
   "metadata": {},
   "outputs": [
    {
     "data": {
      "text/html": [
       "<div>\n",
       "<style scoped>\n",
       "    .dataframe tbody tr th:only-of-type {\n",
       "        vertical-align: middle;\n",
       "    }\n",
       "\n",
       "    .dataframe tbody tr th {\n",
       "        vertical-align: top;\n",
       "    }\n",
       "\n",
       "    .dataframe thead th {\n",
       "        text-align: right;\n",
       "    }\n",
       "</style>\n",
       "<table border=\"1\" class=\"dataframe\">\n",
       "  <thead>\n",
       "    <tr style=\"text-align: right;\">\n",
       "      <th></th>\n",
       "      <th>1</th>\n",
       "      <th>2</th>\n",
       "    </tr>\n",
       "  </thead>\n",
       "  <tbody>\n",
       "    <tr>\n",
       "      <th>nu_i</th>\n",
       "      <td>0.5</td>\n",
       "      <td>0.5</td>\n",
       "    </tr>\n",
       "  </tbody>\n",
       "</table>\n",
       "</div>"
      ],
      "text/plain": [
       "        1    2\n",
       "nu_i  0.5  0.5"
      ]
     },
     "execution_count": 5,
     "metadata": {},
     "output_type": "execute_result"
    }
   ],
   "source": [
    "nu_df = pd.DataFrame(columns=[1, 2], index=pd.Index([\"nu_i\"]))\n",
    "nu_df.loc[\"nu_i\", :] = np.array([np.sum(data_df.loc[pd.Index(index), columns[i]])/n for i in range(0, 2)])\n",
    "nu_df"
   ]
  },
  {
   "cell_type": "markdown",
   "metadata": {},
   "source": [
    "## $$\\widetilde{\\Delta_s} = \\displaystyle\\sum_{j=1}^{k} \\frac{(m_{sj} - n_s \\nu_j)^2}{n_s \\nu_j}$$"
   ]
  },
  {
   "cell_type": "code",
   "execution_count": 6,
   "metadata": {},
   "outputs": [
    {
     "data": {
      "text/html": [
       "<div>\n",
       "<style scoped>\n",
       "    .dataframe tbody tr th:only-of-type {\n",
       "        vertical-align: middle;\n",
       "    }\n",
       "\n",
       "    .dataframe tbody tr th {\n",
       "        vertical-align: top;\n",
       "    }\n",
       "\n",
       "    .dataframe thead th {\n",
       "        text-align: right;\n",
       "    }\n",
       "</style>\n",
       "<table border=\"1\" class=\"dataframe\">\n",
       "  <thead>\n",
       "    <tr style=\"text-align: right;\">\n",
       "      <th></th>\n",
       "      <th>1</th>\n",
       "      <th>2</th>\n",
       "      <th>3</th>\n",
       "      <th>4</th>\n",
       "    </tr>\n",
       "  </thead>\n",
       "  <tbody>\n",
       "    <tr>\n",
       "      <th>delta_s</th>\n",
       "      <td>0.5</td>\n",
       "      <td>0.820513</td>\n",
       "      <td>0.421053</td>\n",
       "      <td>0.33557</td>\n",
       "    </tr>\n",
       "  </tbody>\n",
       "</table>\n",
       "</div>"
      ],
      "text/plain": [
       "           1         2         3        4\n",
       "delta_s  0.5  0.820513  0.421053  0.33557"
      ]
     },
     "execution_count": 6,
     "metadata": {},
     "output_type": "execute_result"
    }
   ],
   "source": [
    "def delta_s(s: int, nu: pd.DataFrame, df: pd.DataFrame):\n",
    "    n_s = np.sum(df.loc[index[s-1], :])\n",
    "    _delta_s = 0\n",
    "    for j in (1, 2):\n",
    "        m_ij = df.loc[index[s-1], columns[j-1]]\n",
    "        nu_j = nu.loc[\"nu_i\", j]\n",
    "        _delta_s += (m_ij - n_s*nu_j)**2/(n_s*nu_j)\n",
    "    return _delta_s\n",
    "\n",
    "delta_df = pd.DataFrame(columns=[1, 2, 3, 4], index=pd.Index([\"delta_s\"]))\n",
    "delta_df.loc[\"delta_s\", :] = np.array([delta_s(s, nu_df, data_df) for s in (1, 2, 3, 4)])\n",
    "delta_df"
   ]
  },
  {
   "cell_type": "markdown",
   "metadata": {},
   "source": [
    "## $$\\widetilde{\\Delta} = \\displaystyle\\sum_{s=1}^{l} \\widetilde{\\Delta_s}$$"
   ]
  },
  {
   "cell_type": "code",
   "execution_count": 7,
   "metadata": {},
   "outputs": [
    {
     "name": "stdout",
     "output_type": "stream",
     "text": [
      "̃Δ = 2.0771359218904255\n"
     ]
    }
   ],
   "source": [
    "delta = np.sum(delta_df.loc[\"delta_s\", :])\n",
    "print(f\"\\u0303\\u0394 = {delta}\")"
   ]
  },
  {
   "cell_type": "markdown",
   "metadata": {},
   "source": [
    "# $$p\\_value = P(\\Delta \\ge \\widetilde{\\Delta}|H_0) = \\displaystyle\\int_{\\widetilde{\\Delta}}^{+\\infty} q(t)dt$$\n",
    "# $q(t) = (\\chi^2((k-1)(l-1)))'$"
   ]
  },
  {
   "cell_type": "code",
   "execution_count": null,
   "metadata": {},
   "outputs": [
    {
     "name": "stdout",
     "output_type": "stream",
     "text": [
      "0.5565521530460769\n"
     ]
    }
   ],
   "source": [
    "sf = chi2.sf(delta, (2-1)*(4-1))\n",
    "print(f\"p-value = {sf}\")"
   ]
  }
 ],
 "metadata": {
  "kernelspec": {
   "display_name": "Python 3",
   "language": "python",
   "name": "python3"
  },
  "language_info": {
   "codemirror_mode": {
    "name": "ipython",
    "version": 3
   },
   "file_extension": ".py",
   "mimetype": "text/x-python",
   "name": "python",
   "nbconvert_exporter": "python",
   "pygments_lexer": "ipython3",
   "version": "3.11.8"
  }
 },
 "nbformat": 4,
 "nbformat_minor": 2
}
