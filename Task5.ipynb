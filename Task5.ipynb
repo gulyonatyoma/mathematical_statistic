{
 "cells": [
  {
   "cell_type": "code",
   "execution_count": 1,
   "metadata": {},
   "outputs": [],
   "source": [
    "import numpy as np\n",
    "import matplotlib.pyplot as plt\n",
    "from scipy.stats import moment "
   ]
  },
  {
   "cell_type": "code",
   "execution_count": 2,
   "metadata": {},
   "outputs": [],
   "source": [
    "N = 100\n",
    "tetha = 50\n",
    "np.random.seed(42)\n",
    "X = np.random.randint(tetha, 2 * tetha, N)\n",
    "tetha_estimate = 2 / 3 * (np.sum(X) / N)"
   ]
  },
  {
   "cell_type": "code",
   "execution_count": 3,
   "metadata": {},
   "outputs": [
    {
     "name": "stdout",
     "output_type": "stream",
     "text": [
      "Точный интервал:  [ 49.506266157442646 , 50.41289414632564 ]\n",
      "Размах =  0.9066279888829953\n"
     ]
    }
   ],
   "source": [
    "a = 0.05\n",
    "\n",
    "left0 = np.max(X) / (1 + (1 - a / 2) ** (1 / N))\n",
    "right0 = np.max(X) / (1 + (a / 2) ** (1 / N))\n",
    "print(\"Точный интервал: \", \"[\", left0, ',', right0, ']')\n",
    "print(\"Размах = \", right0 - left0)"
   ]
  },
  {
   "cell_type": "code",
   "execution_count": 4,
   "metadata": {},
   "outputs": [
    {
     "name": "stdout",
     "output_type": "stream",
     "text": [
      "Асимптотический интервал: [ 47.50164632822605 ,  51.25835367177394 ]\n",
      "Размах =  3.7567073435478875\n"
     ]
    }
   ],
   "source": [
    "XX = X ** 2\n",
    "left1 = -1.96 * (2 / 3) / 10 * np.sqrt(0.01 * np.sum(XX) - (0.01 * np.sum(X)) ** 2) + tetha_estimate\n",
    "right1 = 1.96 * (2 / 3) / 10 * np.sqrt(0.01 * np.sum(XX) - (0.01 * np.sum(X)) ** 2) + tetha_estimate\n",
    "print(\"Асимптотический интервал: [\", left1, ', ', right1, ']')\n",
    "print(\"Размах = \", right1 - left1)"
   ]
  },
  {
   "cell_type": "code",
   "execution_count": 5,
   "metadata": {},
   "outputs": [
    {
     "name": "stdout",
     "output_type": "stream",
     "text": [
      "Бутстраповский интервал: [ 47.56 ,  51.25333333333333 ]\n",
      "Размах =  3.693333333333328\n"
     ]
    }
   ],
   "source": [
    "M = np.array([])\n",
    "for i in range(1000):\n",
    "    M = np.append(M, 2 / 3 * np.mean(np.random.choice(X, size = len(X))) - 2 / 3 * np.mean(X))\n",
    "\n",
    "M = np.sort(M)\n",
    "\n",
    "left2 = 2 / 3 * np.mean(X) + M[24]\n",
    "right2 = 2 / 3 * np.mean(X) + M[974]\n",
    "\n",
    "print(\"Бутстраповский интервал: [\", left2, ', ', right2, ']')\n",
    "print(\"Размах = \", right2 - left2)"
   ]
  },
  {
   "cell_type": "code",
   "execution_count": 6,
   "metadata": {},
   "outputs": [
    {
     "data": {
      "image/png": "[encoded data removed]",
      "text/plain": [
       "<Figure size 640x480 with 1 Axes>"
      ]
     },
     "metadata": {},
     "output_type": "display_data"
    }
   ],
   "source": [
    "x1 = np.linspace(left0, right0, 100)\n",
    "y1 = [1] * 100\n",
    "\n",
    "x2 = np.linspace(left1, right1, 100)\n",
    "y2 = [2] * 100\n",
    "\n",
    "x3 = np.linspace(left2, right2, 100)\n",
    "y3 = [3] * 100\n",
    "\n",
    "plt.plot(x1, y1)\n",
    "plt.plot(x2, y2)\n",
    "plt.plot(x3, y3)\n",
    "\n",
    "plt.legend([\"Точный\", \"Асимптотический\", \"Бутстрап\"])\n",
    "\n",
    "plt.show()"
   ]
  }
 ],
 "metadata": {
  "kernelspec": {
   "display_name": "usr",
   "language": "python",
   "name": "python3"
  },
  "language_info": {
   "codemirror_mode": {
    "name": "ipython",
    "version": 3
   },
   "file_extension": ".py",
   "mimetype": "text/x-python",
   "name": "python",
   "nbconvert_exporter": "python",
   "pygments_lexer": "ipython3",
   "version": "3.12.3"
  }
 },
 "nbformat": 4,
 "nbformat_minor": 2
}
