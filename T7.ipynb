{
 "cells": [
  {
   "cell_type": "code",
   "execution_count": 3,
   "metadata": {},
   "outputs": [],
   "source": [
    "import numpy as np \n",
    "import pandas as pd\n",
    "import math\n",
    "import matplotlib.pyplot as plt \n",
    "import scipy.optimize\n",
    "from scipy.stats import poisson, chi2\n",
    "\n",
    "import matplotlib.pyplot as plt\n",
    "\n",
    "plt.rcParams['figure.figsize'] = (10.0, 8.0) # set default size of plots\n",
    "plt.rcParams['image.interpolation'] = 'nearest'\n",
    "plt.rcParams['image.cmap'] = 'gray'"
   ]
  },
  {
   "cell_type": "markdown",
   "metadata": {},
   "source": [
    "# $$H_0: \\xi \\ \\text{\\textasciitilde} \\ pois(\\theta)$$\n",
    "# $$H_1: \\overline{H_0}$$\n",
    "# $$\\alpha = 0.05$$"
   ]
  },
  {
   "cell_type": "markdown",
   "metadata": {},
   "source": [
    "## Проверка гипотезы с помощью критерия ${\\chi}^2$ (Пирсона) для сложной гипотезы"
   ]
  },
  {
   "cell_type": "markdown",
   "metadata": {},
   "source": [
    "### Функция правдоподобия для ОМПГ:"
   ]
  },
  {
   "cell_type": "markdown",
   "metadata": {},
   "source": [
    "## $$L(\\overrightarrow{x_n}, \\overrightarrow{\\theta}) = \\displaystyle\\prod_{i = 1}^{n} p_i^{m_i},\\ \\ L(\\overrightarrow{x_n}, \\overrightarrow{\\theta}) \\rightarrow \\max$$\n",
    "## $$\\Leftrightarrow$$\n",
    "## $$\\ln (L(\\overrightarrow{x_n}, \\overrightarrow{\\theta})) = \\displaystyle\\sum_{i = 1}^{n} m_i\\ln{p_i},\\ \\ \\ln (L(\\overrightarrow{x_n}, \\overrightarrow{\\theta})) \\rightarrow \\max$$"
   ]
  },
  {
   "cell_type": "markdown",
   "metadata": {},
   "source": [
    "#### $L(\\vec{x_n},\\ \\theta) = \\bigg(e^{-\\theta}\\bigg)^{109} \\bigg(\\theta e^{-\\theta}\\bigg)^{65} \\bigg(\\frac{\\theta^2 e^{-\\theta}}{2}\\bigg)^{22} \\bigg(\\frac{\\theta^3 e^{-\\theta}}{6}\\bigg)^3 \\bigg(\\frac{\\theta^4 e^{-\\theta}}{24}\\bigg)^1 \\bigg(1 - \\displaystyle\\sum_{k=0}^4 p_k\\bigg)^0$\n",
    "#### $lnL = 122ln\\theta - 200\\theta + C$\n",
    "#### $(lnL)' = \\frac{122}{\\theta} - 200$ $\\Rightarrow$ $\\widetilde{\\theta} = \\frac{61}{100}$ \n",
    "#### $(lnL)'' = -\\frac{122}{\\theta^2} > 0$ $\\Rightarrow$ $\\widetilde{\\theta}$ - точка максимума $L(\\theta)$ "
   ]
  },
  {
   "cell_type": "code",
   "execution_count": 4,
   "metadata": {},
   "outputs": [
    {
     "data": {
      "text/html": [
       "<div>\n",
       "<style scoped>\n",
       "    .dataframe tbody tr th:only-of-type {\n",
       "        vertical-align: middle;\n",
       "    }\n",
       "\n",
       "    .dataframe tbody tr th {\n",
       "        vertical-align: top;\n",
       "    }\n",
       "\n",
       "    .dataframe thead th {\n",
       "        text-align: right;\n",
       "    }\n",
       "</style>\n",
       "<table border=\"1\" class=\"dataframe\">\n",
       "  <thead>\n",
       "    <tr style=\"text-align: right;\">\n",
       "      <th></th>\n",
       "      <th>[0, 1)</th>\n",
       "      <th>[1, 2)</th>\n",
       "      <th>[2, 3)</th>\n",
       "      <th>[3, 4)</th>\n",
       "      <th>[4, 5)</th>\n",
       "      <th>[5, +inf)</th>\n",
       "    </tr>\n",
       "  </thead>\n",
       "  <tbody>\n",
       "    <tr>\n",
       "      <th>m_i</th>\n",
       "      <td>109</td>\n",
       "      <td>65</td>\n",
       "      <td>22</td>\n",
       "      <td>3</td>\n",
       "      <td>1</td>\n",
       "      <td>0</td>\n",
       "    </tr>\n",
       "    <tr>\n",
       "      <th>p_i</th>\n",
       "      <td>0.543351</td>\n",
       "      <td>0.331444</td>\n",
       "      <td>0.10109</td>\n",
       "      <td>0.020555</td>\n",
       "      <td>0.003135</td>\n",
       "      <td>0.00356</td>\n",
       "    </tr>\n",
       "    <tr>\n",
       "      <th>np_i</th>\n",
       "      <td>108.670174</td>\n",
       "      <td>66.288806</td>\n",
       "      <td>20.218086</td>\n",
       "      <td>4.111011</td>\n",
       "      <td>0.626929</td>\n",
       "      <td>0.711924</td>\n",
       "    </tr>\n",
       "  </tbody>\n",
       "</table>\n",
       "</div>"
      ],
      "text/plain": [
       "          [0, 1)     [1, 2)     [2, 3)    [3, 4)    [4, 5) [5, +inf)\n",
       "m_i          109         65         22         3         1         0\n",
       "p_i     0.543351   0.331444    0.10109  0.020555  0.003135   0.00356\n",
       "np_i  108.670174  66.288806  20.218086  4.111011  0.626929  0.711924"
      ]
     },
     "execution_count": 4,
     "metadata": {},
     "output_type": "execute_result"
    }
   ],
   "source": [
    "theta = 0.61\n",
    "n = 200\n",
    "m_i = np.array([109, 65, 22, 3, 1, 0])\n",
    "p_i = np.zeros(6)\n",
    "np_i = np.zeros(6)\n",
    "\n",
    "for i in range(0, 5):\n",
    "    prob = poisson.pmf(i, theta)\n",
    "    p_i[i] = prob\n",
    "    _np = prob*n\n",
    "    np_i[i] = _np\n",
    "prob = 1 - np.sum(p_i[0:4])\n",
    "p_i[5] = prob\n",
    "_np = prob*n\n",
    "np_i[5] = _np\n",
    "\n",
    "df = pd.DataFrame(\n",
    "    columns=[\"[0, 1)\", \"[1, 2)\", \"[2, 3)\", \"[3, 4)\", \"[4, 5)\", \"[5, +inf)\"],\n",
    "    index=pd.Index([\"m_i\", \"p_i\", \"np_i\"]))\n",
    "df.loc[\"m_i\", :] = m_i\n",
    "df.loc[\"p_i\", :] = p_i\n",
    "df.loc[\"np_i\", :] = np_i\n",
    "df"
   ]
  },
  {
   "cell_type": "markdown",
   "metadata": {},
   "source": [
    "#### $np_4 < 5,\\ np_5 < 5,\\ \\Rightarrow$ объединяем [2, 3), [3, 4) [4, 5) и [5, $+\\infty$) в [2, $+\\infty$)"
   ]
  },
  {
   "cell_type": "markdown",
   "metadata": {},
   "source": [
    "#### $L(\\theta) = \\bigg(e^{-\\theta}\\bigg)^{109} \\bigg(\\theta e^{-\\theta}\\bigg)^{65}\\bigg(1 - e^{-\\theta} - \\theta e^{-\\theta}\\bigg)^{26}$\n",
    "#### $lnL(\\theta) = 65ln\\theta - 174\\theta + 26ln(1 - e^{\\theta} - \\theta e^{-\\theta})$"
   ]
  },
  {
   "cell_type": "markdown",
   "metadata": {},
   "source": [
    "### Считаем $\\widetilde{\\theta}$ с помощью scipy.optimize.minimize_scalar"
   ]
  },
  {
   "cell_type": "code",
   "execution_count": 5,
   "metadata": {},
   "outputs": [
    {
     "name": "stdout",
     "output_type": "stream",
     "text": [
      "thetta_3 = 0.6144599577791148\n"
     ]
    }
   ],
   "source": [
    "const = 1\n",
    "def lnL(thetta: float) -> float:\n",
    "    return 109*math.log(thetta) - 196*thetta + \\\n",
    "    4*math.log(1 - math.exp(-thetta) - thetta*math.exp(-thetta) - ((thetta**2)/2)*math.exp(-thetta)) + const\n",
    "def lnL1(thetta: float) -> float:\n",
    "    return 122*math.log(thetta) - 200*thetta + const\n",
    "def lnL2(thetta: float) -> float:\n",
    "    return 113*math.log(1 - thetta*math.exp(-thetta) - ((thetta**2)/2)*math.exp(-thetta)) + \\\n",
    "    109*math.log(thetta) - 87*thetta\n",
    "def lnL3(thetta: float) -> float:\n",
    "    return 65*math.log(thetta) - 174*thetta + 26*math.log(1 - math.exp(-thetta) - thetta*math.exp(-thetta))\n",
    "thetta_3 = scipy.optimize.minimize_scalar(lambda x: (-1)*lnL3(x), bounds=(0, 100), method=\"bounded\").x\n",
    "print(f\"thetta_3 = {thetta_3}\")"
   ]
  },
  {
   "cell_type": "code",
   "execution_count": 6,
   "metadata": {},
   "outputs": [
    {
     "data": {
      "text/html": [
       "<div>\n",
       "<style scoped>\n",
       "    .dataframe tbody tr th:only-of-type {\n",
       "        vertical-align: middle;\n",
       "    }\n",
       "\n",
       "    .dataframe tbody tr th {\n",
       "        vertical-align: top;\n",
       "    }\n",
       "\n",
       "    .dataframe thead th {\n",
       "        text-align: right;\n",
       "    }\n",
       "</style>\n",
       "<table border=\"1\" class=\"dataframe\">\n",
       "  <thead>\n",
       "    <tr style=\"text-align: right;\">\n",
       "      <th></th>\n",
       "      <th>[0, 1)</th>\n",
       "      <th>[1, 2)</th>\n",
       "      <th>[2, +inf)</th>\n",
       "    </tr>\n",
       "  </thead>\n",
       "  <tbody>\n",
       "    <tr>\n",
       "      <th>m_i</th>\n",
       "      <td>109</td>\n",
       "      <td>65</td>\n",
       "      <td>26</td>\n",
       "    </tr>\n",
       "    <tr>\n",
       "      <th>p_i</th>\n",
       "      <td>0.541182</td>\n",
       "      <td>0.332286</td>\n",
       "      <td>0.126533</td>\n",
       "    </tr>\n",
       "    <tr>\n",
       "      <th>np_i</th>\n",
       "      <td>108.236361</td>\n",
       "      <td>66.457126</td>\n",
       "      <td>25.306513</td>\n",
       "    </tr>\n",
       "  </tbody>\n",
       "</table>\n",
       "</div>"
      ],
      "text/plain": [
       "          [0, 1)     [1, 2)  [2, +inf)\n",
       "m_i          109         65         26\n",
       "p_i     0.541182   0.332286   0.126533\n",
       "np_i  108.236361  66.457126  25.306513"
      ]
     },
     "execution_count": 6,
     "metadata": {},
     "output_type": "execute_result"
    }
   ],
   "source": [
    "theta = 0.614\n",
    "n = 200\n",
    "m_i = np.array([109, 65, 26])\n",
    "p_i = np.zeros(3)\n",
    "np_i = np.zeros(3)\n",
    "delta = 0 \n",
    "\n",
    "for i in range(0, 2):\n",
    "    prob = poisson.pmf(i, theta)\n",
    "    p_i[i] = prob\n",
    "    _np = prob*n\n",
    "    np_i[i] = _np\n",
    "    delta += ((m_i[i] - _np)**2)/_np\n",
    "\n",
    "prob = 1 - np.sum(p_i[0:2])\n",
    "p_i[2] = prob\n",
    "_np = prob*n\n",
    "np_i[2] = _np\n",
    "delta += ((m_i[2] - _np)**2)/_np\n",
    "\n",
    "df = pd.DataFrame(\n",
    "    columns=[\"[0, 1)\", \"[1, 2)\", \"[2, +inf)\"],\n",
    "    index=pd.Index([\"m_i\", \"p_i\", \"np_i\"]))\n",
    "df.loc[\"m_i\", :] = m_i\n",
    "df.loc[\"p_i\", :] = p_i\n",
    "df.loc[\"np_i\", :] = np_i\n",
    "df"
   ]
  },
  {
   "cell_type": "markdown",
   "metadata": {},
   "source": [
    "## $$\\widetilde{\\Delta} = \\displaystyle\\sum_{i=1}^n \\frac{(n p_i - m_i)^2}{n p_i}$$"
   ]
  },
  {
   "cell_type": "code",
   "execution_count": null,
   "metadata": {},
   "outputs": [
    {
     "name": "stdout",
     "output_type": "stream",
     "text": [
      "delta = 0.056340325026625865\n"
     ]
    }
   ],
   "source": [
    "print(f\"\\u0303\\u0394 = {delta}\")"
   ]
  },
  {
   "cell_type": "code",
   "execution_count": 8,
   "metadata": {},
   "outputs": [
    {
     "name": "stdout",
     "output_type": "stream",
     "text": [
      "0.8123766108594808\n"
     ]
    }
   ],
   "source": [
    "sf = chi2.sf(delta, 1)\n",
    "print(sf)"
   ]
  }
 ],
 "metadata": {
  "kernelspec": {
   "display_name": "Python 3",
   "language": "python",
   "name": "python3"
  },
  "language_info": {
   "codemirror_mode": {
    "name": "ipython",
    "version": 3
   },
   "file_extension": ".py",
   "mimetype": "text/x-python",
   "name": "python",
   "nbconvert_exporter": "python",
   "pygments_lexer": "ipython3",
   "version": "3.11.8"
  }
 },
 "nbformat": 4,
 "nbformat_minor": 2
}
