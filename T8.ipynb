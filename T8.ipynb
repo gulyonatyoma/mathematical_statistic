{
 "cells": [
  {
   "cell_type": "code",
   "execution_count": 10,
   "metadata": {},
   "outputs": [],
   "source": [
    "import numpy as np \n",
    "import pandas as pd\n",
    "import math\n",
    "import matplotlib.pyplot as plt \n",
    "from scipy.stats import chi2\n",
    "\n",
    "plt.rcParams['figure.figsize'] = (10.0, 8.0) # set default size of plots\n",
    "plt.rcParams['image.interpolation'] = 'nearest'\n",
    "plt.rcParams['image.cmap'] = 'gray'"
   ]
  },
  {
   "cell_type": "markdown",
   "metadata": {},
   "source": [
    "## $$\\xi\\ -\\ Распределение\\ типов\\ размера\\ деталей\\ в\\ первой\\ партии$$\n",
    "## $$\\eta\\ -\\ Распределение\\ типов\\ размера\\ деталей\\ во\\ второй\\ партии$$\n",
    "# $$H_0: \\xi,\\ \\eta\\ -\\ независимы$$\n",
    "# $$H_1: \\overline{H_0}$$\n",
    "# $$\\alpha = 0.05$$"
   ]
  },
  {
   "cell_type": "code",
   "execution_count": 11,
   "metadata": {},
   "outputs": [
    {
     "data": {
      "text/html": [
       "<div>\n",
       "<style scoped>\n",
       "    .dataframe tbody tr th:only-of-type {\n",
       "        vertical-align: middle;\n",
       "    }\n",
       "\n",
       "    .dataframe tbody tr th {\n",
       "        vertical-align: top;\n",
       "    }\n",
       "\n",
       "    .dataframe thead th {\n",
       "        text-align: right;\n",
       "    }\n",
       "</style>\n",
       "<table border=\"1\" class=\"dataframe\">\n",
       "  <thead>\n",
       "    <tr style=\"text-align: right;\">\n",
       "      <th></th>\n",
       "      <th>Партия 1</th>\n",
       "      <th>Партия 2</th>\n",
       "    </tr>\n",
       "  </thead>\n",
       "  <tbody>\n",
       "    <tr>\n",
       "      <th>Заниженный размер</th>\n",
       "      <td>25</td>\n",
       "      <td>52</td>\n",
       "    </tr>\n",
       "    <tr>\n",
       "      <th>Точный размер</th>\n",
       "      <td>50</td>\n",
       "      <td>41</td>\n",
       "    </tr>\n",
       "    <tr>\n",
       "      <th>Завышенный размер</th>\n",
       "      <td>25</td>\n",
       "      <td>7</td>\n",
       "    </tr>\n",
       "  </tbody>\n",
       "</table>\n",
       "</div>"
      ],
      "text/plain": [
       "                  Партия 1 Партия 2\n",
       "Заниженный размер       25       52\n",
       "Точный размер           50       41\n",
       "Завышенный размер       25        7"
      ]
     },
     "execution_count": 11,
     "metadata": {},
     "output_type": "execute_result"
    }
   ],
   "source": [
    "n = 200\n",
    "columns = [\"Партия 1\", \"Партия 2\"]\n",
    "index = [\"Заниженный размер\", \"Точный размер\", \"Завышенный размер\"]\n",
    "data_df = pd.DataFrame(columns=columns, index = pd.Index(index))\n",
    "data_df.loc[\"Заниженный размер\", :] = np.array([25, 52])\n",
    "data_df.loc[\"Точный размер\", :] = np.array([50, 41])\n",
    "data_df.loc[\"Завышенный размер\", :] = np.array([25, 7])\n",
    "data_df"
   ]
  },
  {
   "cell_type": "markdown",
   "metadata": {},
   "source": [
    "## $$\\widetilde{p_i} = \\frac{\\displaystyle\\sum_{j=1}^{k} m_{ij}}{n}$$"
   ]
  },
  {
   "cell_type": "code",
   "execution_count": 12,
   "metadata": {},
   "outputs": [
    {
     "data": {
      "text/html": [
       "<div>\n",
       "<style scoped>\n",
       "    .dataframe tbody tr th:only-of-type {\n",
       "        vertical-align: middle;\n",
       "    }\n",
       "\n",
       "    .dataframe tbody tr th {\n",
       "        vertical-align: top;\n",
       "    }\n",
       "\n",
       "    .dataframe thead th {\n",
       "        text-align: right;\n",
       "    }\n",
       "</style>\n",
       "<table border=\"1\" class=\"dataframe\">\n",
       "  <thead>\n",
       "    <tr style=\"text-align: right;\">\n",
       "      <th></th>\n",
       "      <th>1</th>\n",
       "      <th>2</th>\n",
       "      <th>3</th>\n",
       "    </tr>\n",
       "  </thead>\n",
       "  <tbody>\n",
       "    <tr>\n",
       "      <th>p_i</th>\n",
       "      <td>0.385</td>\n",
       "      <td>0.455</td>\n",
       "      <td>0.16</td>\n",
       "    </tr>\n",
       "  </tbody>\n",
       "</table>\n",
       "</div>"
      ],
      "text/plain": [
       "         1      2     3\n",
       "p_i  0.385  0.455  0.16"
      ]
     },
     "execution_count": 12,
     "metadata": {},
     "output_type": "execute_result"
    }
   ],
   "source": [
    "p_df = pd.DataFrame(columns=[1, 2, 3], index=pd.Index([\"p_i\"]))\n",
    "p_df.loc[\"p_i\", :] = np.array([np.sum(data_df.loc[data_df.index[i], :])/n for i in (0, 1, 2)])\n",
    "p_df"
   ]
  },
  {
   "cell_type": "markdown",
   "metadata": {},
   "source": [
    "## $$\\widetilde{q_i} = \\frac{\\displaystyle\\sum_{j=1}^{l} m_{ji}}{n}$$"
   ]
  },
  {
   "cell_type": "code",
   "execution_count": 13,
   "metadata": {},
   "outputs": [
    {
     "data": {
      "text/html": [
       "<div>\n",
       "<style scoped>\n",
       "    .dataframe tbody tr th:only-of-type {\n",
       "        vertical-align: middle;\n",
       "    }\n",
       "\n",
       "    .dataframe tbody tr th {\n",
       "        vertical-align: top;\n",
       "    }\n",
       "\n",
       "    .dataframe thead th {\n",
       "        text-align: right;\n",
       "    }\n",
       "</style>\n",
       "<table border=\"1\" class=\"dataframe\">\n",
       "  <thead>\n",
       "    <tr style=\"text-align: right;\">\n",
       "      <th></th>\n",
       "      <th>1</th>\n",
       "      <th>2</th>\n",
       "    </tr>\n",
       "  </thead>\n",
       "  <tbody>\n",
       "    <tr>\n",
       "      <th>q_j</th>\n",
       "      <td>0.5</td>\n",
       "      <td>0.5</td>\n",
       "    </tr>\n",
       "  </tbody>\n",
       "</table>\n",
       "</div>"
      ],
      "text/plain": [
       "       1    2\n",
       "q_j  0.5  0.5"
      ]
     },
     "execution_count": 13,
     "metadata": {},
     "output_type": "execute_result"
    }
   ],
   "source": [
    "q_df = pd.DataFrame(columns=[1, 2], index=pd.Index([\"q_j\"]))\n",
    "q_df.loc[\"q_j\", :] = np.array([np.sum(data_df.loc[pd.Index(index), columns[i]])/n for i in (0, 1)])\n",
    "q_df"
   ]
  },
  {
   "cell_type": "markdown",
   "metadata": {},
   "source": [
    "## $$\\widetilde{\\Delta} = \\displaystyle\\sum_{i,j}^{k,l} \\frac{(m_{ij} - np_i q_j)^2}{np_i q_j}$$"
   ]
  },
  {
   "cell_type": "code",
   "execution_count": 16,
   "metadata": {},
   "outputs": [
    {
     "name": "stdout",
     "output_type": "stream",
     "text": [
      "̃Δ = 20.48264235764236\n"
     ]
    }
   ],
   "source": [
    "delta = 0\n",
    "for i in (1, 2, 3):\n",
    "    for j in (1, 2):\n",
    "        m_ij = data_df.loc[index[i-1], columns[j-1]]\n",
    "        p_i = p_df.loc[\"p_i\", i]\n",
    "        q_j = q_df.loc[\"q_j\", j]\n",
    "        delta += (m_ij - n*p_i*q_j)**2/(n*p_i*q_j)\n",
    "print(f\"\\u0303\\u0394 = {delta}\")"
   ]
  },
  {
   "cell_type": "markdown",
   "metadata": {},
   "source": [
    "# $$p\\_value = P(\\Delta \\ge \\widetilde{\\Delta}|H_0) = \\displaystyle\\int_{\\widetilde{\\Delta}}^{+\\infty} q(t)dt$$\n",
    "# $q(t) = (\\chi^2((k-1)(l-1)))'$"
   ]
  },
  {
   "cell_type": "code",
   "execution_count": null,
   "metadata": {},
   "outputs": [
    {
     "name": "stdout",
     "output_type": "stream",
     "text": [
      "3.566569773595299e-05\n"
     ]
    }
   ],
   "source": [
    "sf = chi2.sf(delta, (2-1)*(3-1))\n",
    "print(f\"p-value = {sf}\")"
   ]
  },
  {
   "cell_type": "markdown",
   "metadata": {},
   "source": [
    "### p-value $> \\alpha \\Rightarrow$ отвергаем $H_0$"
   ]
  }
 ],
 "metadata": {
  "kernelspec": {
   "display_name": "Python 3",
   "language": "python",
   "name": "python3"
  },
  "language_info": {
   "codemirror_mode": {
    "name": "ipython",
    "version": 3
   },
   "file_extension": ".py",
   "mimetype": "text/x-python",
   "name": "python",
   "nbconvert_exporter": "python",
   "pygments_lexer": "ipython3",
   "version": "3.11.8"
  }
 },
 "nbformat": 4,
 "nbformat_minor": 2
}
